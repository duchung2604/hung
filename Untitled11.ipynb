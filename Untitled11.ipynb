{
  "nbformat": 4,
  "nbformat_minor": 0,
  "metadata": {
    "colab": {
      "provenance": [],
      "authorship_tag": "ABX9TyOMUG10ghABFo/WIAcm0TLR",
      "include_colab_link": true
    },
    "kernelspec": {
      "name": "python3",
      "display_name": "Python 3"
    },
    "language_info": {
      "name": "python"
    }
  },
  "cells": [
    {
      "cell_type": "markdown",
      "metadata": {
        "id": "view-in-github",
        "colab_type": "text"
      },
      "source": [
        "<a href=\"https://colab.research.google.com/github/duchung2604/hung/blob/main/Untitled11.ipynb\" target=\"_parent\"><img src=\"https://colab.research.google.com/assets/colab-badge.svg\" alt=\"Open In Colab\"/></a>"
      ]
    },
    {
      "cell_type": "code",
      "source": [
        "from google.colab import drive\n",
        "drive.mount('/content/drive')\n",
        ""
      ],
      "metadata": {
        "colab": {
          "base_uri": "https://localhost:8080/"
        },
        "id": "UHmXhyvNcZVE",
        "outputId": "2a2d5574-94ae-4532-c37d-e65d77890eac"
      },
      "execution_count": 2,
      "outputs": [
        {
          "output_type": "stream",
          "name": "stdout",
          "text": [
            "Drive already mounted at /content/drive; to attempt to forcibly remount, call drive.mount(\"/content/drive\", force_remount=True).\n"
          ]
        }
      ]
    },
    {
      "cell_type": "code",
      "source": [
        "from google.colab import drive\n",
        "import pandas as pd # Import pandas here\n",
        "\n",
        "# Kết nối Google Drive\n",
        "drive.mount('/content/drive')\n",
        "\n",
        "# Đường dẫn tệp Excel\n",
        "file_path = '/content/drive/My Drive/finaca/financial_timeseries_dataset.csv'\n",
        "\n",
        "# Đọc file Excel\n",
        "df = pd.read_csv(file_path)"
      ],
      "metadata": {
        "colab": {
          "base_uri": "https://localhost:8080/"
        },
        "id": "2ch37kJddCqo",
        "outputId": "8454a2f5-d2b8-4d10-e96f-2dd3fd9f3f57"
      },
      "execution_count": 3,
      "outputs": [
        {
          "output_type": "stream",
          "name": "stdout",
          "text": [
            "Drive already mounted at /content/drive; to attempt to forcibly remount, call drive.mount(\"/content/drive\", force_remount=True).\n"
          ]
        }
      ]
    },
    {
      "cell_type": "code",
      "source": [
        "import pandas as pd\n",
        "import numpy as np\n",
        "from sklearn.preprocessing import KBinsDiscretizer\n",
        "from scipy.special import logsumexp\n",
        "from numpy.random import default_rng\n"
      ],
      "metadata": {
        "id": "f3afI8s5dazf"
      },
      "execution_count": 4,
      "outputs": []
    },
    {
      "cell_type": "code",
      "source": [
        "# Đọc dữ liệu và trích cột AAPL\n",
        "df = pd.read_csv(file_path)\n",
        "aapl_cols = [col for col in df.columns if col.startswith(\"AAPL\")]\n",
        "aapl_data = df[aapl_cols].values\n"
      ],
      "metadata": {
        "id": "43-zQCgzdik6"
      },
      "execution_count": 5,
      "outputs": []
    },
    {
      "cell_type": "code",
      "source": [
        "# Chuyển đổi dữ liệu liên tục thành biểu tượng rời rạc\n",
        "n_bins = 5\n",
        "discretizer = KBinsDiscretizer(n_bins=n_bins, encode='ordinal', strategy='uniform')\n",
        "aapl_discrete = discretizer.fit_transform(aapl_data).astype(int)\n",
        "obs_seq = aapl_discrete[0]  # lấy chuỗi đầu tiên để huấn luyện"
      ],
      "metadata": {
        "id": "kvoiISx1eJQw"
      },
      "execution_count": 6,
      "outputs": []
    },
    {
      "cell_type": "code",
      "source": [
        "# ======================== 3. THUẬT TOÁN HMM (FORWARD) ========================\n",
        "def forward_algorithm(obs_seq, A, B, pi):\n",
        "    N, T = A.shape[0], len(obs_seq)\n",
        "    alpha = np.zeros((T, N))\n",
        "    alpha[0] = np.log(pi) + np.log(B[:, obs_seq[0]])\n",
        "    for t in range(1, T):\n",
        "        for j in range(N):\n",
        "            alpha[t, j] = logsumexp(alpha[t - 1] + np.log(A[:, j])) + np.log(B[j, obs_seq[t]])\n",
        "    return logsumexp(alpha[T - 1])\n"
      ],
      "metadata": {
        "id": "O6Z7717QeNJx"
      },
      "execution_count": 7,
      "outputs": []
    },
    {
      "cell_type": "code",
      "source": [
        "# ======================== 4. TÁCH THAM SỐ HMM ========================\n",
        "def unpack_params(params, n_states, n_obs):\n",
        "    idx = 0\n",
        "    A = np.reshape(params[idx:idx + n_states * n_states], (n_states, n_states))\n",
        "    idx += n_states * n_states\n",
        "    B = np.reshape(params[idx:idx + n_states * n_obs], (n_states, n_obs))\n",
        "    idx += n_states * n_obs\n",
        "    pi = params[idx:idx + n_states]\n",
        "    A = (A.T / A.sum(axis=1)).T\n",
        "    B = (B.T / B.sum(axis=1)).T\n",
        "    pi = pi / pi.sum()\n",
        "    return A, B, pi"
      ],
      "metadata": {
        "id": "lGRgfy-weWIY"
      },
      "execution_count": 8,
      "outputs": []
    },
    {
      "cell_type": "code",
      "source": [
        "# ======================== 5. HÀM MỤC TIÊU CHO PSO ========================\n",
        "def fitness(params):\n",
        "    try:\n",
        "        A, B, pi = unpack_params(params, n_states, n_obs)\n",
        "        return -forward_algorithm(obs_seq, A, B, pi)\n",
        "    except:\n",
        "        return np.inf"
      ],
      "metadata": {
        "id": "w6QT8Xk_eZVv"
      },
      "execution_count": 9,
      "outputs": []
    },
    {
      "cell_type": "code",
      "source": [
        "# ======================== 6. PSO ĐƠN GIẢN ========================\n",
        "n_states = 3\n",
        "n_obs = n_bins\n",
        "param_dim = n_states * n_states + n_states * n_obs + n_states\n",
        "rng = default_rng(42)\n",
        "\n",
        "def random_params():\n",
        "    A = rng.random((n_states, n_states))\n",
        "    B = rng.random((n_states, n_obs))\n",
        "    pi = rng.random(n_states)\n",
        "    return np.concatenate([A.flatten(), B.flatten(), pi])\n",
        "\n",
        "# Khởi tạo quần thể\n",
        "n_particles = 10\n",
        "particles = np.array([random_params() for _ in range(n_particles)])\n",
        "\n",
        "# Tìm hạt tốt nhất\n",
        "best_score = np.inf\n",
        "best_params = None\n",
        "for p in particles:\n",
        "    score = fitness(p)\n",
        "    if score < best_score:\n",
        "        best_score = score\n",
        "        best_params = p"
      ],
      "metadata": {
        "id": "fuOWDcl5eeEn"
      },
      "execution_count": 10,
      "outputs": []
    },
    {
      "cell_type": "code",
      "source": [
        "# ======================== 7. HIỂN THỊ KẾT QUẢ ========================\n",
        "A_best, B_best, pi_best = unpack_params(best_params, n_states, n_obs)\n",
        "print(\"✅ Log-likelihood tốt nhất:\", -best_score)\n",
        "print(\"A (ma trận chuyển trạng thái):\\n\", A_best)\n",
        "print(\"B (ma trận phát xạ):\\n\", B_best)\n",
        "print(\"π (xác suất khởi tạo):\\n\", pi_best)"
      ],
      "metadata": {
        "colab": {
          "base_uri": "https://localhost:8080/"
        },
        "id": "ACy2XW6nehEu",
        "outputId": "db4c4a6b-2e82-4492-f85f-d75bdccb7b39"
      },
      "execution_count": 11,
      "outputs": [
        {
          "output_type": "stream",
          "name": "stdout",
          "text": [
            "✅ Log-likelihood tốt nhất: -43.06518533232651\n",
            "A (ma trận chuyển trạng thái):\n",
            " [[0.11084288 0.10466552 0.7844916 ]\n",
            " [0.33491242 0.25351354 0.41157404]\n",
            " [0.34797233 0.50165697 0.15037071]]\n",
            "B (ma trận phát xạ):\n",
            " [[0.41198939 0.01107456 0.24733306 0.28242716 0.04717583]\n",
            " [0.04594141 0.13720079 0.31630458 0.19511981 0.30543342]\n",
            " [0.36838369 0.21405287 0.35940839 0.00816895 0.0499861 ]]\n",
            "π (xác suất khởi tạo):\n",
            " [0.44619649 0.42865291 0.12515059]\n"
          ]
        }
      ]
    }
  ]
}